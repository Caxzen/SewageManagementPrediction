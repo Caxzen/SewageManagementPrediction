{
 "cells": [
  {
   "cell_type": "code",
   "execution_count": 52,
   "metadata": {},
   "outputs": [],
   "source": [
    "import numpy as np\n",
    "import pandas as pd \n",
    "import matplotlib.pyplot as plt \n",
    "from keras.preprocessing.sequence import TimeseriesGenerator"
   ]
  },
  {
   "cell_type": "code",
   "execution_count": 53,
   "metadata": {},
   "outputs": [
    {
     "data": {
      "text/html": [
       "<div>\n",
       "<style scoped>\n",
       "    .dataframe tbody tr th:only-of-type {\n",
       "        vertical-align: middle;\n",
       "    }\n",
       "\n",
       "    .dataframe tbody tr th {\n",
       "        vertical-align: top;\n",
       "    }\n",
       "\n",
       "    .dataframe thead th {\n",
       "        text-align: right;\n",
       "    }\n",
       "</style>\n",
       "<table border=\"1\" class=\"dataframe\">\n",
       "  <thead>\n",
       "    <tr style=\"text-align: right;\">\n",
       "      <th></th>\n",
       "      <th>Date</th>\n",
       "      <th>Queries</th>\n",
       "      <th>Area</th>\n",
       "    </tr>\n",
       "  </thead>\n",
       "  <tbody>\n",
       "    <tr>\n",
       "      <th>0</th>\n",
       "      <td>01/03/2022</td>\n",
       "      <td>55</td>\n",
       "      <td>Anna nagar</td>\n",
       "    </tr>\n",
       "    <tr>\n",
       "      <th>1</th>\n",
       "      <td>02/03/2022</td>\n",
       "      <td>60</td>\n",
       "      <td>Anna nagar</td>\n",
       "    </tr>\n",
       "    <tr>\n",
       "      <th>2</th>\n",
       "      <td>03/03/2022</td>\n",
       "      <td>57</td>\n",
       "      <td>Anna nagar</td>\n",
       "    </tr>\n",
       "    <tr>\n",
       "      <th>3</th>\n",
       "      <td>04/03/2022</td>\n",
       "      <td>45</td>\n",
       "      <td>Anna nagar</td>\n",
       "    </tr>\n",
       "    <tr>\n",
       "      <th>4</th>\n",
       "      <td>05/03/2022</td>\n",
       "      <td>85</td>\n",
       "      <td>Anna nagar</td>\n",
       "    </tr>\n",
       "    <tr>\n",
       "      <th>...</th>\n",
       "      <td>...</td>\n",
       "      <td>...</td>\n",
       "      <td>...</td>\n",
       "    </tr>\n",
       "    <tr>\n",
       "      <th>56</th>\n",
       "      <td>03/03/2022</td>\n",
       "      <td>24</td>\n",
       "      <td>Anna nagar</td>\n",
       "    </tr>\n",
       "    <tr>\n",
       "      <th>57</th>\n",
       "      <td>25/03/2022</td>\n",
       "      <td>70</td>\n",
       "      <td>Anna nagar</td>\n",
       "    </tr>\n",
       "    <tr>\n",
       "      <th>58</th>\n",
       "      <td>04/04/2022</td>\n",
       "      <td>81</td>\n",
       "      <td>Anna nagar</td>\n",
       "    </tr>\n",
       "    <tr>\n",
       "      <th>59</th>\n",
       "      <td>28/03/2022</td>\n",
       "      <td>88</td>\n",
       "      <td>Anna nagar</td>\n",
       "    </tr>\n",
       "    <tr>\n",
       "      <th>60</th>\n",
       "      <td>18/04/2022</td>\n",
       "      <td>54</td>\n",
       "      <td>Anna nagar</td>\n",
       "    </tr>\n",
       "  </tbody>\n",
       "</table>\n",
       "<p>61 rows × 3 columns</p>\n",
       "</div>"
      ],
      "text/plain": [
       "          Date  Queries        Area\n",
       "0   01/03/2022       55  Anna nagar\n",
       "1   02/03/2022       60  Anna nagar\n",
       "2   03/03/2022       57  Anna nagar\n",
       "3   04/03/2022       45  Anna nagar\n",
       "4   05/03/2022       85  Anna nagar\n",
       "..         ...      ...         ...\n",
       "56  03/03/2022       24  Anna nagar\n",
       "57  25/03/2022       70  Anna nagar\n",
       "58  04/04/2022       81  Anna nagar\n",
       "59  28/03/2022       88  Anna nagar\n",
       "60  18/04/2022       54  Anna nagar\n",
       "\n",
       "[61 rows x 3 columns]"
      ]
     },
     "execution_count": 53,
     "metadata": {},
     "output_type": "execute_result"
    }
   ],
   "source": [
    "data = pd.read_csv(\"data.csv\")\n",
    "data"
   ]
  },
  {
   "cell_type": "code",
   "execution_count": 54,
   "metadata": {},
   "outputs": [],
   "source": [
    "read_data = data.iloc[0:31]\n",
    "read_data.index.freq = 'D'"
   ]
  },
  {
   "cell_type": "code",
   "execution_count": null,
   "metadata": {},
   "outputs": [],
   "source": []
  },
  {
   "cell_type": "code",
   "execution_count": 55,
   "metadata": {},
   "outputs": [
    {
     "name": "stderr",
     "output_type": "stream",
     "text": [
      "C:\\Users\\jishn\\AppData\\Local\\Temp\\ipykernel_17108\\2196445711.py:1: SettingWithCopyWarning: \n",
      "A value is trying to be set on a copy of a slice from a DataFrame\n",
      "\n",
      "See the caveats in the documentation: https://pandas.pydata.org/pandas-docs/stable/user_guide/indexing.html#returning-a-view-versus-a-copy\n",
      "  read_data.drop(columns=[\"Area\"],inplace=True)\n"
     ]
    }
   ],
   "source": [
    "read_data.drop(columns=[\"Area\"],inplace=True)\n",
    "read_data.set_index([\"Date\"],inplace=True)"
   ]
  },
  {
   "cell_type": "code",
   "execution_count": 59,
   "metadata": {},
   "outputs": [
    {
     "data": {
      "text/html": [
       "<div>\n",
       "<style scoped>\n",
       "    .dataframe tbody tr th:only-of-type {\n",
       "        vertical-align: middle;\n",
       "    }\n",
       "\n",
       "    .dataframe tbody tr th {\n",
       "        vertical-align: top;\n",
       "    }\n",
       "\n",
       "    .dataframe thead th {\n",
       "        text-align: right;\n",
       "    }\n",
       "</style>\n",
       "<table border=\"1\" class=\"dataframe\">\n",
       "  <thead>\n",
       "    <tr style=\"text-align: right;\">\n",
       "      <th></th>\n",
       "      <th>Queries</th>\n",
       "    </tr>\n",
       "    <tr>\n",
       "      <th>Date</th>\n",
       "      <th></th>\n",
       "    </tr>\n",
       "  </thead>\n",
       "  <tbody>\n",
       "    <tr>\n",
       "      <th>29/03/2022</th>\n",
       "      <td>97</td>\n",
       "    </tr>\n",
       "    <tr>\n",
       "      <th>30/03/2022</th>\n",
       "      <td>75</td>\n",
       "    </tr>\n",
       "    <tr>\n",
       "      <th>31/03/2022</th>\n",
       "      <td>56</td>\n",
       "    </tr>\n",
       "  </tbody>\n",
       "</table>\n",
       "</div>"
      ],
      "text/plain": [
       "            Queries\n",
       "Date               \n",
       "29/03/2022       97\n",
       "30/03/2022       75\n",
       "31/03/2022       56"
      ]
     },
     "execution_count": 59,
     "metadata": {},
     "output_type": "execute_result"
    }
   ],
   "source": [
    "train = read_data.iloc[:28]\n",
    "test = read_data.iloc[28:]\n",
    "\n"
   ]
  },
  {
   "cell_type": "code",
   "execution_count": 60,
   "metadata": {},
   "outputs": [],
   "source": [
    "from sklearn.preprocessing import MinMaxScaler\n",
    "scaler = MinMaxScaler()"
   ]
  },
  {
   "cell_type": "code",
   "execution_count": 61,
   "metadata": {},
   "outputs": [],
   "source": [
    "scaler.fit(train)\n",
    "scaled_train = scaler.transform(train)\n",
    "scaled_test = scaler.transform(test)"
   ]
  },
  {
   "cell_type": "code",
   "execution_count": 62,
   "metadata": {},
   "outputs": [],
   "source": [
    "n_input = 3\n",
    "n_features = 1\n",
    "generator = TimeseriesGenerator(scaled_train, scaled_train, length=n_input, batch_size=1)"
   ]
  },
  {
   "cell_type": "code",
   "execution_count": 63,
   "metadata": {},
   "outputs": [
    {
     "name": "stdout",
     "output_type": "stream",
     "text": [
      "Given the Array: \n",
      "[0.53012048 0.59036145 0.55421687]\n",
      "Predict this y: \n",
      " [[0.40963855]]\n"
     ]
    }
   ],
   "source": [
    "X,y = generator[0]\n",
    "print(f'Given the Array: \\n{X.flatten()}')\n",
    "print(f'Predict this y: \\n {y}')     "
   ]
  },
  {
   "cell_type": "code",
   "execution_count": 64,
   "metadata": {},
   "outputs": [],
   "source": [
    "from keras.models import Sequential\n",
    "from keras.layers import Dense\n",
    "from keras.layers import LSTM"
   ]
  },
  {
   "cell_type": "code",
   "execution_count": 65,
   "metadata": {},
   "outputs": [],
   "source": [
    "model = Sequential()\n",
    "model.add(LSTM(100, activation='relu', input_shape=(n_input, n_features)))\n",
    "model.add(Dense(1))\n",
    "model.compile(optimizer='adam', loss='mse')"
   ]
  },
  {
   "cell_type": "code",
   "execution_count": 66,
   "metadata": {},
   "outputs": [
    {
     "name": "stdout",
     "output_type": "stream",
     "text": [
      "Epoch 1/50\n",
      "25/25 [==============================] - 4s 8ms/step - loss: 0.3060\n",
      "Epoch 2/50\n",
      "25/25 [==============================] - 0s 6ms/step - loss: 0.1500\n",
      "Epoch 3/50\n",
      "25/25 [==============================] - 0s 6ms/step - loss: 0.0927\n",
      "Epoch 4/50\n",
      "25/25 [==============================] - 0s 6ms/step - loss: 0.0805\n",
      "Epoch 5/50\n",
      "25/25 [==============================] - 0s 5ms/step - loss: 0.0843\n",
      "Epoch 6/50\n",
      "25/25 [==============================] - 0s 5ms/step - loss: 0.0824\n",
      "Epoch 7/50\n",
      "25/25 [==============================] - 0s 5ms/step - loss: 0.0883\n",
      "Epoch 8/50\n",
      "25/25 [==============================] - 0s 6ms/step - loss: 0.0814\n",
      "Epoch 9/50\n",
      "25/25 [==============================] - 0s 6ms/step - loss: 0.0811\n",
      "Epoch 10/50\n",
      "25/25 [==============================] - 0s 5ms/step - loss: 0.0802\n",
      "Epoch 11/50\n",
      "25/25 [==============================] - 0s 6ms/step - loss: 0.0815\n",
      "Epoch 12/50\n",
      "25/25 [==============================] - 0s 5ms/step - loss: 0.0808\n",
      "Epoch 13/50\n",
      "25/25 [==============================] - 0s 7ms/step - loss: 0.0805\n",
      "Epoch 14/50\n",
      "25/25 [==============================] - 0s 5ms/step - loss: 0.0822\n",
      "Epoch 15/50\n",
      "25/25 [==============================] - 0s 5ms/step - loss: 0.0813\n",
      "Epoch 16/50\n",
      "25/25 [==============================] - 0s 5ms/step - loss: 0.0807\n",
      "Epoch 17/50\n",
      "25/25 [==============================] - 0s 6ms/step - loss: 0.0773\n",
      "Epoch 18/50\n",
      "25/25 [==============================] - 0s 6ms/step - loss: 0.0816\n",
      "Epoch 19/50\n",
      "25/25 [==============================] - 0s 5ms/step - loss: 0.0788\n",
      "Epoch 20/50\n",
      "25/25 [==============================] - 0s 5ms/step - loss: 0.0817\n",
      "Epoch 21/50\n",
      "25/25 [==============================] - 0s 5ms/step - loss: 0.0789\n",
      "Epoch 22/50\n",
      "25/25 [==============================] - 0s 6ms/step - loss: 0.0803\n",
      "Epoch 23/50\n",
      "25/25 [==============================] - 0s 6ms/step - loss: 0.0766\n",
      "Epoch 24/50\n",
      "25/25 [==============================] - 0s 6ms/step - loss: 0.0757\n",
      "Epoch 25/50\n",
      "25/25 [==============================] - 0s 5ms/step - loss: 0.0773\n",
      "Epoch 26/50\n",
      "25/25 [==============================] - 0s 7ms/step - loss: 0.0760\n",
      "Epoch 27/50\n",
      "25/25 [==============================] - 0s 6ms/step - loss: 0.0783\n",
      "Epoch 28/50\n",
      "25/25 [==============================] - 0s 6ms/step - loss: 0.0749\n",
      "Epoch 29/50\n",
      "25/25 [==============================] - 0s 6ms/step - loss: 0.0812\n",
      "Epoch 30/50\n",
      "25/25 [==============================] - 0s 6ms/step - loss: 0.0744\n",
      "Epoch 31/50\n",
      "25/25 [==============================] - 0s 6ms/step - loss: 0.0762\n",
      "Epoch 32/50\n",
      "25/25 [==============================] - 0s 5ms/step - loss: 0.0817\n",
      "Epoch 33/50\n",
      "25/25 [==============================] - 0s 5ms/step - loss: 0.0732\n",
      "Epoch 34/50\n",
      "25/25 [==============================] - 0s 6ms/step - loss: 0.0760\n",
      "Epoch 35/50\n",
      "25/25 [==============================] - 0s 5ms/step - loss: 0.0795\n",
      "Epoch 36/50\n",
      "25/25 [==============================] - 0s 5ms/step - loss: 0.0795\n",
      "Epoch 37/50\n",
      "25/25 [==============================] - 0s 6ms/step - loss: 0.0760\n",
      "Epoch 38/50\n",
      "25/25 [==============================] - 0s 5ms/step - loss: 0.0745\n",
      "Epoch 39/50\n",
      "25/25 [==============================] - 0s 6ms/step - loss: 0.0749\n",
      "Epoch 40/50\n",
      "25/25 [==============================] - 0s 6ms/step - loss: 0.0742\n",
      "Epoch 41/50\n",
      "25/25 [==============================] - 0s 6ms/step - loss: 0.0762\n",
      "Epoch 42/50\n",
      "25/25 [==============================] - 0s 5ms/step - loss: 0.0778\n",
      "Epoch 43/50\n",
      "25/25 [==============================] - 0s 6ms/step - loss: 0.0743\n",
      "Epoch 44/50\n",
      "25/25 [==============================] - 0s 7ms/step - loss: 0.0740\n",
      "Epoch 45/50\n",
      "25/25 [==============================] - 0s 5ms/step - loss: 0.0793\n",
      "Epoch 46/50\n",
      "25/25 [==============================] - 0s 5ms/step - loss: 0.0747\n",
      "Epoch 47/50\n",
      "25/25 [==============================] - 0s 5ms/step - loss: 0.0752\n",
      "Epoch 48/50\n",
      "25/25 [==============================] - 0s 5ms/step - loss: 0.0725\n",
      "Epoch 49/50\n",
      "25/25 [==============================] - 0s 5ms/step - loss: 0.0722\n",
      "Epoch 50/50\n",
      "25/25 [==============================] - 0s 5ms/step - loss: 0.0723\n"
     ]
    },
    {
     "data": {
      "text/plain": [
       "<keras.callbacks.History at 0x220b6fe4130>"
      ]
     },
     "execution_count": 66,
     "metadata": {},
     "output_type": "execute_result"
    }
   ],
   "source": [
    "model.fit(generator,epochs=50)"
   ]
  },
  {
   "cell_type": "code",
   "execution_count": 67,
   "metadata": {},
   "outputs": [
    {
     "data": {
      "text/plain": [
       "array([[[1.03614458],\n",
       "        [0.77108434],\n",
       "        [0.54216867]]])"
      ]
     },
     "execution_count": 67,
     "metadata": {},
     "output_type": "execute_result"
    }
   ],
   "source": [
    "last_train_batch = scaled_test\n",
    "last_train_batch = last_train_batch.reshape((1, n_input, n_features))\n",
    "last_train_batch"
   ]
  },
  {
   "cell_type": "code",
   "execution_count": 68,
   "metadata": {},
   "outputs": [
    {
     "name": "stdout",
     "output_type": "stream",
     "text": [
      "1/1 [==============================] - 1s 528ms/step\n"
     ]
    },
    {
     "data": {
      "text/plain": [
       "array([[0.5196684]], dtype=float32)"
      ]
     },
     "execution_count": 68,
     "metadata": {},
     "output_type": "execute_result"
    }
   ],
   "source": [
    "model.predict(last_train_batch)\n"
   ]
  },
  {
   "cell_type": "code",
   "execution_count": 69,
   "metadata": {},
   "outputs": [
    {
     "data": {
      "text/plain": [
       "array([[54.1324772]])"
      ]
     },
     "execution_count": 69,
     "metadata": {},
     "output_type": "execute_result"
    }
   ],
   "source": [
    "scaler.inverse_transform([[0.5196684]])"
   ]
  }
 ],
 "metadata": {
  "kernelspec": {
   "display_name": "Python 3",
   "language": "python",
   "name": "python3"
  },
  "language_info": {
   "codemirror_mode": {
    "name": "ipython",
    "version": 3
   },
   "file_extension": ".py",
   "mimetype": "text/x-python",
   "name": "python",
   "nbconvert_exporter": "python",
   "pygments_lexer": "ipython3",
   "version": "3.10.10"
  },
  "orig_nbformat": 4
 },
 "nbformat": 4,
 "nbformat_minor": 2
}
